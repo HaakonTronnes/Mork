{
 "cells": [
  {
   "cell_type": "code",
   "execution_count": 1,
   "metadata": {},
   "outputs": [],
   "source": [
    "import numpy as np\n",
    "import pandas as pd\n",
    "import matplotlib.pyplot as plt"
   ]
  },
  {
   "cell_type": "code",
   "execution_count": 2,
   "metadata": {},
   "outputs": [],
   "source": [
    "#simulation\n",
    "\n",
    "#generate random errors\n",
    "sample_size = 1000000\n",
    "T = 40 #years\n",
    "std_norm_e = np.random.randn(T*sample_size, 3) #np.random.multivariate_normal([0,0,0], cov_e, (T, sample_size))"
   ]
  },
  {
   "cell_type": "code",
   "execution_count": 3,
   "metadata": {},
   "outputs": [
    {
     "data": {
      "text/html": [
       "<div>\n",
       "<style scoped>\n",
       "    .dataframe tbody tr th:only-of-type {\n",
       "        vertical-align: middle;\n",
       "    }\n",
       "\n",
       "    .dataframe tbody tr th {\n",
       "        vertical-align: top;\n",
       "    }\n",
       "\n",
       "    .dataframe thead th {\n",
       "        text-align: right;\n",
       "    }\n",
       "</style>\n",
       "<table border=\"1\" class=\"dataframe\">\n",
       "  <thead>\n",
       "    <tr style=\"text-align: right;\">\n",
       "      <th></th>\n",
       "      <th>Real NOK 70-30</th>\n",
       "      <th>Real NOK 50-50</th>\n",
       "      <th>Real USD 70-30</th>\n",
       "      <th>Real USD 50-50</th>\n",
       "    </tr>\n",
       "  </thead>\n",
       "  <tbody>\n",
       "    <tr>\n",
       "      <th>r_0</th>\n",
       "      <td>0.063200</td>\n",
       "      <td>0.058200</td>\n",
       "      <td>0.049100</td>\n",
       "      <td>0.044100</td>\n",
       "    </tr>\n",
       "    <tr>\n",
       "      <th>a_1</th>\n",
       "      <td>-0.037500</td>\n",
       "      <td>-0.037300</td>\n",
       "      <td>-0.059900</td>\n",
       "      <td>-0.075600</td>\n",
       "    </tr>\n",
       "    <tr>\n",
       "      <th>a_2</th>\n",
       "      <td>1.192300</td>\n",
       "      <td>1.192310</td>\n",
       "      <td>1.199200</td>\n",
       "      <td>1.204300</td>\n",
       "    </tr>\n",
       "    <tr>\n",
       "      <th>a_3</th>\n",
       "      <td>-0.506900</td>\n",
       "      <td>-0.515700</td>\n",
       "      <td>-0.489200</td>\n",
       "      <td>-0.496900</td>\n",
       "    </tr>\n",
       "    <tr>\n",
       "      <th>b_1</th>\n",
       "      <td>1.082700</td>\n",
       "      <td>1.084700</td>\n",
       "      <td>1.073100</td>\n",
       "      <td>1.069400</td>\n",
       "    </tr>\n",
       "    <tr>\n",
       "      <th>b_2</th>\n",
       "      <td>-0.295000</td>\n",
       "      <td>-0.297800</td>\n",
       "      <td>-0.283500</td>\n",
       "      <td>-0.283700</td>\n",
       "    </tr>\n",
       "    <tr>\n",
       "      <th>std_r</th>\n",
       "      <td>0.138900</td>\n",
       "      <td>0.116800</td>\n",
       "      <td>0.123900</td>\n",
       "      <td>0.093400</td>\n",
       "    </tr>\n",
       "    <tr>\n",
       "      <th>std_x</th>\n",
       "      <td>0.017100</td>\n",
       "      <td>0.017600</td>\n",
       "      <td>0.015700</td>\n",
       "      <td>0.016000</td>\n",
       "    </tr>\n",
       "    <tr>\n",
       "      <th>std_f</th>\n",
       "      <td>0.021800</td>\n",
       "      <td>0.021800</td>\n",
       "      <td>0.021900</td>\n",
       "      <td>0.021900</td>\n",
       "    </tr>\n",
       "    <tr>\n",
       "      <th>cov_xf</th>\n",
       "      <td>0.000148</td>\n",
       "      <td>0.000155</td>\n",
       "      <td>0.000119</td>\n",
       "      <td>0.000132</td>\n",
       "    </tr>\n",
       "    <tr>\n",
       "      <th>corr_xf</th>\n",
       "      <td>0.436700</td>\n",
       "      <td>0.447900</td>\n",
       "      <td>0.383400</td>\n",
       "      <td>0.374900</td>\n",
       "    </tr>\n",
       "  </tbody>\n",
       "</table>\n",
       "</div>"
      ],
      "text/plain": [
       "         Real NOK 70-30  Real NOK 50-50  Real USD 70-30  Real USD 50-50\n",
       "r_0            0.063200        0.058200        0.049100        0.044100\n",
       "a_1           -0.037500       -0.037300       -0.059900       -0.075600\n",
       "a_2            1.192300        1.192310        1.199200        1.204300\n",
       "a_3           -0.506900       -0.515700       -0.489200       -0.496900\n",
       "b_1            1.082700        1.084700        1.073100        1.069400\n",
       "b_2           -0.295000       -0.297800       -0.283500       -0.283700\n",
       "std_r          0.138900        0.116800        0.123900        0.093400\n",
       "std_x          0.017100        0.017600        0.015700        0.016000\n",
       "std_f          0.021800        0.021800        0.021900        0.021900\n",
       "cov_xf         0.000148        0.000155        0.000119        0.000132\n",
       "corr_xf        0.436700        0.447900        0.383400        0.374900"
      ]
     },
     "execution_count": 3,
     "metadata": {},
     "output_type": "execute_result"
    }
   ],
   "source": [
    "#load VAR parameter values from excel sheet\n",
    "VAR_param = pd.read_excel('VAR_param.xlsx', index_col=0)\n",
    "VAR_param"
   ]
  },
  {
   "cell_type": "code",
   "execution_count": 28,
   "metadata": {},
   "outputs": [],
   "source": [
    "#prepare parameter values\n",
    "r_0, a_1, a_2, a_3, b_1, b_2, std_r, std_x, std_f, cov_xf = VAR_param['Real NOK 70-30'][:-1]\n",
    "a_1 = -0.09\n",
    "b_0 = a_1\n",
    "\n",
    "\n",
    "r_mean = 0.03\n",
    "mu = np.log(1+r_mean)\n",
    "\n",
    "corr_rx = corr_rf = 0.5\n",
    "\n",
    "cov_e = [[std_r**2, corr_rx*std_r*std_x, corr_rf*std_r*std_f],\n",
    "        [corr_rx*std_r*std_x, std_x**2, cov_xf],\n",
    "        [corr_rf*std_r*std_f, cov_xf, std_f**2]]\n",
    "cholesky_cov = np.linalg.cholesky(cov_e)\n"
   ]
  },
  {
   "cell_type": "code",
   "execution_count": 29,
   "metadata": {},
   "outputs": [],
   "source": [
    "#simulate the VAR\n",
    "#transform errors\n",
    "e=cholesky_cov.dot(std_norm_e.T).T.reshape(T, sample_size, 3)\n",
    "\n",
    "r = np.zeros((T, sample_size))\n",
    "X = np.zeros((T, sample_size))\n",
    "F = np.zeros((T, sample_size))\n",
    "\n",
    "#first simulate r because it is independent\n",
    "r = mu -.5*std_r**2 + e[:,:,0]\n",
    "#then simulate X and F\n",
    "#note that the first couple of values are taken from end of arrays\n",
    "for t in range(T):\n",
    "    X[t] = a_1*r[t-1] + a_2*X[t-1] + a_3*X[t-2] + e[t,:,1]\n",
    "    F[t] = b_0*r[t-1] + b_1*F[t-1] + b_2*F[t-2] + e[t,:,2]"
   ]
  },
  {
   "cell_type": "code",
   "execution_count": 30,
   "metadata": {},
   "outputs": [
    {
     "data": {
      "text/plain": [
       "array([[1.        , 0.27230225],\n",
       "       [0.27230225, 1.        ]])"
      ]
     },
     "execution_count": 30,
     "metadata": {},
     "output_type": "execute_result"
    }
   ],
   "source": [
    "np.corrcoef(X.reshape(-1), r.reshape(-1))"
   ]
  },
  {
   "cell_type": "code",
   "execution_count": 31,
   "metadata": {},
   "outputs": [
    {
     "data": {
      "text/plain": [
       "array([[1.        , 0.50068809],\n",
       "       [0.50068809, 1.        ]])"
      ]
     },
     "execution_count": 31,
     "metadata": {},
     "output_type": "execute_result"
    }
   ],
   "source": [
    "np.corrcoef(e[0,:,0], e[0,:,1])"
   ]
  },
  {
   "cell_type": "code",
   "execution_count": 32,
   "metadata": {},
   "outputs": [
    {
     "data": {
      "text/plain": [
       "[[0.019293209999999998, 0.001187595, 0.0015140099999999999],\n",
       " [0.001187595, 0.00029241, 0.000148],\n",
       " [0.0015140099999999999, 0.000148, 0.00047524]]"
      ]
     },
     "execution_count": 32,
     "metadata": {},
     "output_type": "execute_result"
    }
   ],
   "source": [
    "cov_e"
   ]
  },
  {
   "cell_type": "code",
   "execution_count": 33,
   "metadata": {},
   "outputs": [
    {
     "data": {
      "text/plain": [
       "array([[0.01932473, 0.00119102, 0.00151304],\n",
       "       [0.00119102, 0.00029281, 0.00014794],\n",
       "       [0.00151304, 0.00014794, 0.00047484]])"
      ]
     },
     "execution_count": 33,
     "metadata": {},
     "output_type": "execute_result"
    }
   ],
   "source": [
    "np.cov(e[0,:].T)"
   ]
  },
  {
   "cell_type": "code",
   "execution_count": 34,
   "metadata": {},
   "outputs": [],
   "source": [
    "#simulate withdrawal rules\n",
    "df = pd.DataFrame(index = ['5%', '25%', '50%', '75%', '95%', 'Mean','Depletion rate']) #table to save results to\n",
    "\n",
    "#simulation paramaters\n",
    "params = [{'lambda':0, 'F':False, 'X':False},\n",
    "          {'lambda':0, 'F':False, 'X':True},\n",
    "          {'lambda':0, 'F':True, 'X':True},\n",
    "         {'lambda':0.5, 'F':True, 'X':True},\n",
    "         {'lambda':0.8, 'F':True, 'X':True}]\n",
    "\n",
    "for param in params:\n",
    "    lambda_ = param['lambda']\n",
    "    A = np.zeros((T, sample_size))\n",
    "    D = np.zeros((T, sample_size))\n",
    "    S = np.zeros((T, sample_size))\n",
    "    A[0] = 10\n",
    "    S[0] = r_mean*A[0]\n",
    "    D[0] = S[0] + X[0]*param['X'] + F[0]*param['F']\n",
    "    for t in range(1,T):\n",
    "        A[t] = np.maximum(A[t-1]*np.exp(r[t-1])-D[t-1], 0)\n",
    "\n",
    "        S[t] = np.where(S[t-1]<=r_mean*A[t-1], r_mean*A[t]+F[t]*param['F'], lambda_*S[t-1]+(1-lambda_)*r_mean*A[t]+F[t]*param['F']) \n",
    "        D[t] = S[t] + X[t]*param['X']\n",
    "\n",
    "    df[r'$\\lambda$={}, X={}, F={}'.format(param['lambda'], param['X'], param['F'])] = [np.percentile(A[-1], 5),np.percentile(A[-1], 25), np.percentile(A[-1], 50), np.percentile(A[-1], 75), np.percentile(A[-1], 95), A[-1].mean(),(A[-1]==0).mean()]\n",
    "\n"
   ]
  },
  {
   "cell_type": "code",
   "execution_count": 35,
   "metadata": {
    "scrolled": true
   },
   "outputs": [
    {
     "data": {
      "text/html": [
       "<div>\n",
       "<style scoped>\n",
       "    .dataframe tbody tr th:only-of-type {\n",
       "        vertical-align: middle;\n",
       "    }\n",
       "\n",
       "    .dataframe tbody tr th {\n",
       "        vertical-align: top;\n",
       "    }\n",
       "\n",
       "    .dataframe thead th {\n",
       "        text-align: right;\n",
       "    }\n",
       "</style>\n",
       "<table border=\"1\" class=\"dataframe\">\n",
       "  <thead>\n",
       "    <tr style=\"text-align: right;\">\n",
       "      <th></th>\n",
       "      <th>$\\lambda$=0, X=False, F=False</th>\n",
       "      <th>$\\lambda$=0, X=True, F=False</th>\n",
       "      <th>$\\lambda$=0, X=True, F=True</th>\n",
       "      <th>$\\lambda$=0.5, X=True, F=True</th>\n",
       "      <th>$\\lambda$=0.8, X=True, F=True</th>\n",
       "    </tr>\n",
       "  </thead>\n",
       "  <tbody>\n",
       "    <tr>\n",
       "      <th>5%</th>\n",
       "      <td>1.537333</td>\n",
       "      <td>1.560952</td>\n",
       "      <td>1.631954</td>\n",
       "      <td>1.324814</td>\n",
       "      <td>0.367930</td>\n",
       "    </tr>\n",
       "    <tr>\n",
       "      <th>25%</th>\n",
       "      <td>3.668583</td>\n",
       "      <td>3.765081</td>\n",
       "      <td>3.944576</td>\n",
       "      <td>3.623606</td>\n",
       "      <td>2.785696</td>\n",
       "    </tr>\n",
       "    <tr>\n",
       "      <th>50%</th>\n",
       "      <td>6.709123</td>\n",
       "      <td>6.878824</td>\n",
       "      <td>7.153163</td>\n",
       "      <td>6.810788</td>\n",
       "      <td>5.958173</td>\n",
       "    </tr>\n",
       "    <tr>\n",
       "      <th>75%</th>\n",
       "      <td>12.263251</td>\n",
       "      <td>12.551665</td>\n",
       "      <td>12.944782</td>\n",
       "      <td>12.605504</td>\n",
       "      <td>11.733514</td>\n",
       "    </tr>\n",
       "    <tr>\n",
       "      <th>95%</th>\n",
       "      <td>29.168733</td>\n",
       "      <td>29.732359</td>\n",
       "      <td>30.435447</td>\n",
       "      <td>30.179822</td>\n",
       "      <td>29.342068</td>\n",
       "    </tr>\n",
       "    <tr>\n",
       "      <th>Mean</th>\n",
       "      <td>9.993678</td>\n",
       "      <td>10.212635</td>\n",
       "      <td>10.523405</td>\n",
       "      <td>10.208056</td>\n",
       "      <td>9.360421</td>\n",
       "    </tr>\n",
       "    <tr>\n",
       "      <th>Depletion rate</th>\n",
       "      <td>0.000000</td>\n",
       "      <td>0.000015</td>\n",
       "      <td>0.000220</td>\n",
       "      <td>0.001877</td>\n",
       "      <td>0.024385</td>\n",
       "    </tr>\n",
       "  </tbody>\n",
       "</table>\n",
       "</div>"
      ],
      "text/plain": [
       "                $\\lambda$=0, X=False, F=False  $\\lambda$=0, X=True, F=False  \\\n",
       "5%                                   1.537333                      1.560952   \n",
       "25%                                  3.668583                      3.765081   \n",
       "50%                                  6.709123                      6.878824   \n",
       "75%                                 12.263251                     12.551665   \n",
       "95%                                 29.168733                     29.732359   \n",
       "Mean                                 9.993678                     10.212635   \n",
       "Depletion rate                       0.000000                      0.000015   \n",
       "\n",
       "                $\\lambda$=0, X=True, F=True  $\\lambda$=0.5, X=True, F=True  \\\n",
       "5%                                 1.631954                       1.324814   \n",
       "25%                                3.944576                       3.623606   \n",
       "50%                                7.153163                       6.810788   \n",
       "75%                               12.944782                      12.605504   \n",
       "95%                               30.435447                      30.179822   \n",
       "Mean                              10.523405                      10.208056   \n",
       "Depletion rate                     0.000220                       0.001877   \n",
       "\n",
       "                $\\lambda$=0.8, X=True, F=True  \n",
       "5%                                   0.367930  \n",
       "25%                                  2.785696  \n",
       "50%                                  5.958173  \n",
       "75%                                 11.733514  \n",
       "95%                                 29.342068  \n",
       "Mean                                 9.360421  \n",
       "Depletion rate                       0.024385  "
      ]
     },
     "execution_count": 35,
     "metadata": {},
     "output_type": "execute_result"
    }
   ],
   "source": [
    "df"
   ]
  },
  {
   "cell_type": "code",
   "execution_count": 18,
   "metadata": {},
   "outputs": [
    {
     "data": {
      "text/plain": [
       "Text(0, 0.5, 'X')"
      ]
     },
     "execution_count": 18,
     "metadata": {},
     "output_type": "execute_result"
    },
    {
     "data": {
      "image/png": "[encoded data removed]",
      "text/plain": [
       "<Figure size 432x288 with 1 Axes>"
      ]
     },
     "metadata": {
      "needs_background": "light"
     },
     "output_type": "display_data"
    }
   ],
   "source": [
    "plt.plot(X[:,:10])\n",
    "plt.title('Real NOK 70-30')\n",
    "plt.xlabel('Years')\n",
    "plt.ylabel('X')"
   ]
  },
  {
   "cell_type": "code",
   "execution_count": null,
   "metadata": {},
   "outputs": [],
   "source": []
  }
 ],
 "metadata": {
  "kernelspec": {
   "display_name": "Python 3",
   "language": "python",
   "name": "python3"
  },
  "language_info": {
   "codemirror_mode": {
    "name": "ipython",
    "version": 3
   },
   "file_extension": ".py",
   "mimetype": "text/x-python",
   "name": "python",
   "nbconvert_exporter": "python",
   "pygments_lexer": "ipython3",
   "version": "3.6.7"
  }
 },
 "nbformat": 4,
 "nbformat_minor": 2
}
