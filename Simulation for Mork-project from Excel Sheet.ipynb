{
 "cells": [
  {
   "cell_type": "code",
   "execution_count": 10,
   "metadata": {},
   "outputs": [],
   "source": [
    "import numpy as np\n",
    "import pandas as pd\n",
    "import matplotlib.pyplot as plt"
   ]
  },
  {
   "cell_type": "code",
   "execution_count": 11,
   "metadata": {},
   "outputs": [],
   "source": [
    "def transform_residuals(params, std_norm_e):\n",
    "    std_r,std_x,std_f, corr_xf, corr_rx, corr_rf = params[['std_r', 'std_x', 'std_f', 'corr_xf', 'corr_rx', 'corr_rf']]\n",
    "    cov = [[std_r**2, corr_rx*std_r*std_x, corr_rf*std_r*std_f],\n",
    "        [corr_rx*std_r*std_x, std_x**2, corr_xf*std_x*std_f],\n",
    "        [corr_rf*std_r*std_f, corr_xf*std_x*std_f, std_f**2]]\n",
    "    cholesky_cov = np.linalg.cholesky(cov)\n",
    "    e=cholesky_cov.dot(std_norm_e.T).T.reshape(T, sample_size, 3)\n",
    "    return e[:params['T'], :params['n'],:]\n"
   ]
  },
  {
   "cell_type": "code",
   "execution_count": 12,
   "metadata": {},
   "outputs": [],
   "source": [
    "def sim_VAR(params, e):\n",
    "    \n",
    "    growth_factor = params['growth_factor']\n",
    "    r_mean = params['r_mean']\n",
    "    mu = np.log(1+r_mean)\n",
    "    T, sample_size = params['T'], params['n']\n",
    "    std_r = params['std_r']\n",
    "    a_1, a_2, a_3, b_0, b_1, b_2 = params[['a_1', 'a_2', 'a_3', 'b_0', 'b_1', 'b_2']]\n",
    "    \n",
    "    r = np.zeros((T, sample_size))\n",
    "    X = np.zeros((T, sample_size))\n",
    "    F = np.zeros((T, sample_size))\n",
    "\n",
    "    #first simulate r because it is independent\n",
    "    r = mu -.5*std_r**2 + e[:,:,0]\n",
    "    #then simulate X and F\n",
    "    #note that the first couple of values are taken from end of arrays\n",
    "    for t in range(T):\n",
    "        X[t] = a_1*r[t-1] + a_2*X[t-1] + a_3*X[t-2] + e[t,:,1]*growth_factor**t\n",
    "        F[t] = b_0*r[t-1] + b_1*F[t-1] + b_2*F[t-2] + e[t,:,2]*growth_factor**t\n",
    "    return r, X, F"
   ]
  },
  {
   "cell_type": "code",
   "execution_count": 13,
   "metadata": {},
   "outputs": [],
   "source": [
    "#simulation function\n",
    "def sim(A_0, X, F, param, new_smoothing):\n",
    "    df = pd.DataFrame(index = ['5%', '25%', '50%', '75%', '95%', 'Mean','Depletion rate']) #table to save results to\n",
    "\n",
    "\n",
    "    lambda_ = param['lambda']\n",
    "    r_mean = param['r_mean']\n",
    "    T, sample_size = param['T'], param['n']\n",
    "    A = np.zeros((T, sample_size))\n",
    "    D = np.zeros((T, sample_size))\n",
    "    S = np.zeros((T, sample_size))\n",
    "    A[0] = param['A_0']\n",
    "    S[0] = r_mean*A[0]\n",
    "    D[0] = S[0] + X[0]*param['X'] + F[0]*param['F']\n",
    "    for t in range(1,T):\n",
    "        A[t] = np.maximum(A[t-1]*np.exp(r[t-1])-D[t-1], 0)\n",
    "\n",
    "        if new_smoothing:\n",
    "            S[t] = np.where(S[t-1]<=r_mean*A[t], r_mean*A[t]+F[t]*param['F'], lambda_*S[t-1]+(1-lambda_)*r_mean*A[t]+F[t]*param['F'])\n",
    "            #S[t] = np.maximum(r_mean*A[t]+F[t]*param['F'], lambda_*S[t-1]+(1-lambda_)*r_mean*A[t]+F[t]*param['F'])\n",
    "        else:    \n",
    "            S[t] = np.where(S[t-1]<=r_mean*A[t-1], r_mean*A[t]+F[t]*param['F'], lambda_*S[t-1]+(1-lambda_)*r_mean*A[t]+F[t]*param['F']) \n",
    "        \n",
    "        D[t] = S[t] + X[t]*param['X']\n",
    "\n",
    "    df[r'$\\lambda$={}, X={}, F={}'.format(param['lambda'], param['X'], param['F'])] = [np.percentile(A[-1], 5),np.percentile(A[-1], 25), np.percentile(A[-1], 50), np.percentile(A[-1], 75), np.percentile(A[-1], 95), A[-1].mean(),(A[-1]==0).mean()]\n",
    "    return df"
   ]
  },
  {
   "cell_type": "code",
   "execution_count": 19,
   "metadata": {},
   "outputs": [],
   "source": [
    "sim_param = pd.read_excel('sim_param.xlsx', index_col = 0, dtype = {'n':'int32', 'T':'int32', 'X': 'bool', 'A_0': 'float32'})\n",
    "#generate random errors\n",
    "sample_size = sim_param['n'].max()\n",
    "T = sim_param['T'].max()\n",
    "std_norm_e = np.random.standard_normal(size=(T*sample_size, 3))"
   ]
  },
  {
   "cell_type": "code",
   "execution_count": 20,
   "metadata": {},
   "outputs": [
    {
     "name": "stdout",
     "output_type": "stream",
     "text": [
      "Simulation 1 of 40 done!\n",
      "Simulation 2 of 40 done!\n",
      "Simulation 3 of 40 done!\n",
      "Simulation 4 of 40 done!\n",
      "Simulation 5 of 40 done!\n",
      "Simulation 6 of 40 done!\n",
      "Simulation 7 of 40 done!\n",
      "Simulation 8 of 40 done!\n",
      "Simulation 9 of 40 done!\n",
      "Simulation 10 of 40 done!\n",
      "Simulation 11 of 40 done!\n",
      "Simulation 12 of 40 done!\n",
      "Simulation 13 of 40 done!\n",
      "Simulation 14 of 40 done!\n",
      "Simulation 15 of 40 done!\n",
      "Simulation 16 of 40 done!\n",
      "Simulation 17 of 40 done!\n",
      "Simulation 18 of 40 done!\n",
      "Simulation 19 of 40 done!\n",
      "Simulation 20 of 40 done!\n",
      "Simulation 21 of 40 done!\n",
      "Simulation 22 of 40 done!\n",
      "Simulation 23 of 40 done!\n",
      "Simulation 24 of 40 done!\n",
      "Simulation 25 of 40 done!\n",
      "Simulation 26 of 40 done!\n",
      "Simulation 27 of 40 done!\n",
      "Simulation 28 of 40 done!\n",
      "Simulation 29 of 40 done!\n",
      "Simulation 30 of 40 done!\n",
      "Simulation 31 of 40 done!\n",
      "Simulation 32 of 40 done!\n",
      "Simulation 33 of 40 done!\n",
      "Simulation 34 of 40 done!\n",
      "Simulation 35 of 40 done!\n",
      "Simulation 36 of 40 done!\n",
      "Simulation 37 of 40 done!\n",
      "Simulation 38 of 40 done!\n",
      "Simulation 39 of 40 done!\n",
      "Simulation 40 of 40 done!\n"
     ]
    }
   ],
   "source": [
    "sim_param[['5%', '25%', '50%', '75%', '95%', 'Mean','Depletion rate']] = 0.\n",
    "for i in range(len(sim_param)):\n",
    "    e = transform_residuals(sim_param.iloc[i], std_norm_e)\n",
    "    r, X, F = sim_VAR(sim_param.iloc[i], e)\n",
    "    A_0, new_smoothing = sim_param.iloc[i][['A_0', 'new_smoothing']]\n",
    "    df = sim(A_0, X, F, sim_param.iloc[i], new_smoothing)\n",
    "    sim_param.iloc[i,-7:] = df.values.reshape(-1)\n",
    "    print('Simulation', str(i+1), 'of', str(len(sim_param)), 'done!')"
   ]
  },
  {
   "cell_type": "code",
   "execution_count": 21,
   "metadata": {},
   "outputs": [],
   "source": [
    "sim_param.T.to_excel('sim_results.xlsx')"
   ]
  },
  {
   "cell_type": "code",
   "execution_count": null,
   "metadata": {},
   "outputs": [],
   "source": []
  },
  {
   "cell_type": "code",
   "execution_count": null,
   "metadata": {},
   "outputs": [],
   "source": []
  }
 ],
 "metadata": {
  "kernelspec": {
   "display_name": "Python 3",
   "language": "python",
   "name": "python3"
  },
  "language_info": {
   "codemirror_mode": {
    "name": "ipython",
    "version": 3
   },
   "file_extension": ".py",
   "mimetype": "text/x-python",
   "name": "python",
   "nbconvert_exporter": "python",
   "pygments_lexer": "ipython3",
   "version": "3.8.8"
  }
 },
 "nbformat": 4,
 "nbformat_minor": 2
}
